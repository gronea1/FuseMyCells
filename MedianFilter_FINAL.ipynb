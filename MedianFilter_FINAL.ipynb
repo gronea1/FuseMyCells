{
 "cells": [
  {
   "cell_type": "code",
   "execution_count": null,
   "id": "9cf761f1-5636-42c4-a2df-49e339ddaa1d",
   "metadata": {},
   "outputs": [],
   "source": [
    "import os\n",
    "import numpy as np\n",
    "import tifffile as tiff\n",
    "import imageio.v3 as iio\n",
    "import matplotlib.pyplot as plt\n",
    "from scipy.ndimage import median_filter"
   ]
  },
  {
   "cell_type": "code",
   "execution_count": null,
   "id": "fadfebf7-d1c3-45e8-bb09-0e3093dcc42c",
   "metadata": {},
   "outputs": [],
   "source": [
    "def denoise_slices(input_path, output_path):\n",
    "    # Read full image stack (assumes multi-page TIFF)\n",
    "    image_stack = tiff.imread(input_path)\n",
    "    print(f\"Loaded image stack with shape: {image_stack.shape}\")\n",
    "\n",
    "    # Ensure output directory exists\n",
    "    output_dir = os.path.dirname(output_path)\n",
    "    if output_dir:\n",
    "        os.makedirs(output_dir, exist_ok=True)\n",
    "\n",
    "    # Apply median filter slice-by-slice and stack into 3D array\n",
    "    denoised_stack = np.array([median_filter(image_stack[i], size=3) for i in range(image_stack.shape[0])])\n",
    "\n",
    "    # Save the denoised 3D stack as a multi-page TIFF\n",
    "    tiff.imwrite(output_path, denoised_stack)\n",
    "    print(f\"Denoised stack saved to {output_path}\")\n",
    "\n",
    "    return denoised_stack\n",
    "\n",
    "def display_slices(stack, num_slices=None):\n",
    "    # Display all slices if num_slices is None\n",
    "    n = stack.shape[0] if num_slices is None else min(num_slices, stack.shape[0])\n",
    "    for i in range(n):\n",
    "        plt.figure()\n",
    "        plt.imshow(stack[i], cmap='gray')\n",
    "        plt.title(f\"Denoised Slice {i}\")\n",
    "        plt.axis('off')\n",
    "        plt.show()\n",
    "\n",
    "# Example usage\n",
    "input_path = \"image_169_nucleus_angle.tif\"\n",
    "output_path = \"denoised_image_169_nucleus_angle.tif\"\n",
    "denoised_stack = denoise_slices(input_path, output_path)\n",
    "display_slices(denoised_stack)"
   ]
  },
  {
   "cell_type": "code",
   "execution_count": null,
   "id": "711316e7-af67-49ed-9d4c-d374da193410",
   "metadata": {},
   "outputs": [],
   "source": []
  }
 ],
 "metadata": {
  "kernelspec": {
   "display_name": "anaconda-2024.02-py310",
   "language": "python",
   "name": "conda-env-anaconda-2024.02-py310-py"
  },
  "language_info": {
   "codemirror_mode": {
    "name": "ipython",
    "version": 3
   },
   "file_extension": ".py",
   "mimetype": "text/x-python",
   "name": "python",
   "nbconvert_exporter": "python",
   "pygments_lexer": "ipython3",
   "version": "3.10.14"
  }
 },
 "nbformat": 4,
 "nbformat_minor": 5
}
