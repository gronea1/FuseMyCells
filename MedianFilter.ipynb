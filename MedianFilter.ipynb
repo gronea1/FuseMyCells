{
 "cells": [
  {
   "cell_type": "code",
   "execution_count": null,
   "id": "fadfebf7-d1c3-45e8-bb09-0e3093dcc42c",
   "metadata": {},
   "outputs": [],
   "source": [
    "import os\n",
    "import numpy as np\n",
    "import imageio.v3 as iio\n",
    "import matplotlib.pyplot as plt\n",
    "from scipy.ndimage import median_filter\n",
    "\n",
    "def denoise_slices(input_path, output_path):\n",
    "    # Read full image stack (assumes multi-page TIFF)\n",
    "    image_stack = iio.imread(input_path)\n",
    "\n",
    "    denoised_stack = np.empty_like(image_stack)\n",
    "\n",
    "    # Apply median filter slice-by-slice\n",
    "    for i in range(image_stack.shape[0]):\n",
    "        denoised_stack[i] = median_filter(image_stack[i], size=3)\n",
    "\n",
    "    # Save denoised stack\n",
    "    iio.imwrite(output_path, denoised_stack)\n",
    "    print(f\"Denoised stack saved to {output_path}\")\n",
    "\n",
    "    return denoised_stack\n",
    "\n",
    "def display_slices(stack, num_slices=5):\n",
    "    # Display the first few slices\n",
    "    for i in range(min(num_slices, stack.shape[0])):\n",
    "        plt.figure()\n",
    "        plt.imshow(stack[i], cmap='gray')\n",
    "        plt.title(f\"Denoised Slice {i}\")\n",
    "        plt.axis('off')\n",
    "        plt.show()\n",
    "\n",
    "# Example usage\n",
    "input_path = \"image_169_nucleus_angle.tif\"\n",
    "output_path = \"denoised_image_169_nucleus_angle.tif\"\n",
    "denoised_stack = denoise_slices(input_path, output_path)\n",
    "display_slices(denoised_stack)"
   ]
  }
 ],
 "metadata": {
  "kernelspec": {
   "display_name": "anaconda-2024.02-py310",
   "language": "python",
   "name": "conda-env-anaconda-2024.02-py310-py"
  },
  "language_info": {
   "codemirror_mode": {
    "name": "ipython",
    "version": 3
   },
   "file_extension": ".py",
   "mimetype": "text/x-python",
   "name": "python",
   "nbconvert_exporter": "python",
   "pygments_lexer": "ipython3",
   "version": "3.10.14"
  }
 },
 "nbformat": 4,
 "nbformat_minor": 5
}
