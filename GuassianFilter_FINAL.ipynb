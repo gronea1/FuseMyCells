{
 "cells": [
  {
   "cell_type": "code",
   "execution_count": 11,
   "id": "01886ddc",
   "metadata": {},
   "outputs": [],
   "source": [
    "import os\n",
    "import numpy as np\n",
    "from skimage import io, filters, exposure, util"
   ]
  },
  {
   "cell_type": "code",
   "execution_count": 15,
   "id": "223dd419",
   "metadata": {},
   "outputs": [
    {
     "name": "stdout",
     "output_type": "stream",
     "text": [
      "Loaded stack with shape: (887, 817, 766) (Z, Y, X)\n",
      "Original min/max: 0, 65535\n",
      "Denoised stack shape: (887, 817, 766) (Z, Y, X)\n",
      "Denoised min/max: 0, 65535\n",
      "Saved denoised stack to: /Users/maryannjohnson/Library/CloudStorage/Box-Box/Documents/Fuse My Cells Challenge/Denoised_Zstack_Images/image_176_membrane_angle_denoised_multipage.tif\n"
     ]
    }
   ],
   "source": [
    "def gaussian_denoise_multipage_tiff(input_tiff, output_tiff, sigma=1.0):\n",
    "    \"\"\"\n",
    "    Reads a multi-page TIFF into a 3D NumPy array, applies a Gaussian filter \n",
    "    to each Z-slice, rescales intensity, and saves the result as a multi-page TIFF.\n",
    "    \"\"\"\n",
    "    # Read the multi-page TIFF as a 3D array: shape = (num_slices, height, width)\n",
    "    image_stack = io.imread(input_tiff)\n",
    "    print(f\"Loaded stack with shape: {image_stack.shape} (Z, Y, X)\")\n",
    "    print(f\"Original min/max: {image_stack.min()}, {image_stack.max()}\")\n",
    "\n",
    "    denoised_slices = []\n",
    "\n",
    "    # Iterate through each Z-slice\n",
    "    for i in range(image_stack.shape[0]):\n",
    "        slice_i = image_stack[i, ...]\n",
    "        \n",
    "        # Apply Gaussian filter WITHOUT preserve_range\n",
    "        denoised_slice_float = filters.gaussian(slice_i, sigma=sigma)\n",
    "\n",
    "        # Optionally rescale intensities so they fit the slice's real min/max\n",
    "        rescaled_slice = exposure.rescale_intensity(\n",
    "            denoised_slice_float,\n",
    "            in_range='image',   # auto-detect min/max of this slice\n",
    "            out_range='uint16'  # you could also use 'dtype' if you prefer\n",
    "        )\n",
    "\n",
    "        # Now we have a rescaled 16-bit slice\n",
    "        denoised_slices.append(rescaled_slice)\n",
    "\n",
    "    # Stack denoised slices into a 3D NumPy array again\n",
    "    denoised_stack = np.stack(denoised_slices, axis=0).astype(np.uint16)\n",
    "    print(f\"Denoised stack shape: {denoised_stack.shape} (Z, Y, X)\")\n",
    "    print(f\"Denoised min/max: {denoised_stack.min()}, {denoised_stack.max()}\")\n",
    "\n",
    "    # Make sure the directory to output exists\n",
    "    os.makedirs(os.path.dirname(output_tiff), exist_ok=True)\n",
    "\n",
    "    # Save the denoised 3D stack as a multi-page TIFF\n",
    "    io.imsave(output_tiff, denoised_stack)\n",
    "    print(f\"Saved denoised stack to: {output_tiff}\")\n",
    "\n",
    "if __name__ == \"__main__\":\n",
    "    input_path = \"/Users/maryannjohnson/Library/CloudStorage/Box-Box/Documents/Fuse My Cells Challenge/image_169-180/image_176_membrane_angle.tif\"\n",
    "    output_path = \"/Users/maryannjohnson/Library/CloudStorage/Box-Box/Documents/Fuse My Cells Challenge/Denoised_Zstack_Images/image_176_membrane_angle_denoised_multipage.tif\"\n",
    "    sigma_value = 1.0\n",
    "\n",
    "    gaussian_denoise_multipage_tiff(input_path, output_path, sigma=sigma_value)"
   ]
  },
  {
   "cell_type": "code",
   "execution_count": null,
   "id": "bc5a9c1b-6cad-4f8d-8eaa-4edebd5d9108",
   "metadata": {},
   "outputs": [],
   "source": []
  }
 ],
 "metadata": {
  "kernelspec": {
   "display_name": "Python [conda env:base] *",
   "language": "python",
   "name": "conda-base-py"
  },
  "language_info": {
   "codemirror_mode": {
    "name": "ipython",
    "version": 3
   },
   "file_extension": ".py",
   "mimetype": "text/x-python",
   "name": "python",
   "nbconvert_exporter": "python",
   "pygments_lexer": "ipython3",
   "version": "3.12.8"
  }
 },
 "nbformat": 4,
 "nbformat_minor": 5
}
