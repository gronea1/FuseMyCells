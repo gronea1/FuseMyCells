{
 "cells": [
  {
   "cell_type": "code",
   "execution_count": null,
   "id": "e7121be1-cb2a-4bf6-a308-8dbc73563a3b",
   "metadata": {},
   "outputs": [],
   "source": [
    "import cv2\n",
    "import numpy as np\n",
    "from PIL import Image, ImageSequence\n",
    "\n",
    "# Load the multi-frame TIFF (Z-stack)\n",
    "input_path = \"/Users/gronea/Box/Fuse My Cells Challenge/image_169-180/image_176_membrane_angle.tif\"  # Change this to your file\n",
    "output_path = \"zstack_denoised.tif\"\n",
    "\n",
    "# Open the image using PIL\n",
    "with Image.open(input_path) as img:\n",
    "    frames = []\n",
    "    \n",
    "    for i, frame in enumerate(ImageSequence.Iterator(img)):\n",
    "        # Convert frame to numpy array (grayscale or color)\n",
    "        image = np.array(frame)\n",
    "\n",
    "        # Ensure image is in float32 for processing (if not already)\n",
    "        if image.dtype != np.float32:\n",
    "            image = image.astype(np.float32)  # Keep as float32 without normalizing\n",
    "        \n",
    "        # Normalize the image to reduce intensity before filtering\n",
    "        image_min = np.min(image)\n",
    "        image_max = np.max(image)\n",
    "        image = (image - image_min) / (image_max - image_min)  # Normalize to [0, 1]\n",
    "\n",
    "        # Dynamically determine parameters\n",
    "        height, width = image.shape[:2]\n",
    "        d = max(5, min(height, width) // 50)  # Adaptive diameter\n",
    "        \n",
    "        # Adjust sigmaColor to control smoothing intensity\n",
    "        sigmaColor = np.std(image) * 0.15  # Reduce from 0.75 to 0.1.5 for less intense smoothing\n",
    "        sigmaSpace = d * 1              # Linked to d\n",
    "\n",
    "        # Apply bilateral filtering (image in float32)\n",
    "        denoised_image = cv2.bilateralFilter(image, d, sigmaColor, sigmaSpace)\n",
    "\n",
    "        # Denormalize back to the original intensity range [image_min, image_max]\n",
    "        denoised_image = denoised_image * (image_max - image_min) + image_min\n",
    "\n",
    "        # Clip to ensure no values are out of range\n",
    "        denoised_image = np.clip(denoised_image, 0, 255).astype(np.uint8)\n",
    "\n",
    "        # Convert back to PIL Image and append the frame\n",
    "        frames.append(Image.fromarray(denoised_image))\n",
    "\n",
    "        #print(f\"Processed frame {i+1} with d={d}, sigmaColor={sigmaColor:.2f}, sigmaSpace={sigmaSpace:.2f}\")\n",
    "\n",
    "    # Save as a multi-frame TIFF (without any clipping)\n",
    "    frames[0].save(output_path, save_all=True, append_images=frames[1:], compression=\"tiff_deflate\")\n",
    "print(f\"Denoised Z-stack saved as {output_path}\")\n"
   ]
  },
  {
   "cell_type": "code",
   "execution_count": null,
   "id": "3d50fd02-60b3-442e-99b1-efa6b9132562",
   "metadata": {},
   "outputs": [],
   "source": []
  }
 ],
 "metadata": {
  "kernelspec": {
   "display_name": "Python 3 (ipykernel)",
   "language": "python",
   "name": "python3"
  },
  "language_info": {
   "codemirror_mode": {
    "name": "ipython",
    "version": 3
   },
   "file_extension": ".py",
   "mimetype": "text/x-python",
   "name": "python",
   "nbconvert_exporter": "python",
   "pygments_lexer": "ipython3",
   "version": "3.12.7"
  }
 },
 "nbformat": 4,
 "nbformat_minor": 5
}
